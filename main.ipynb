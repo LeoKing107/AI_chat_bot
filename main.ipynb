{
 "cells": [
  {
   "cell_type": "code",
   "execution_count": 1,
   "metadata": {},
   "outputs": [],
   "source": [
    "from dotenv import load_dotenv\n",
    "import os\n",
    "from langchain_groq import ChatGroq\n",
    "from langchain.prompts import PromptTemplate\n",
    "from langchain_core.output_parsers import StrOutputParser\n",
    "from langchain_community.document_loaders import PyPDFLoader\n",
    "from langchain.text_splitter import RecursiveCharacterTextSplitter\n",
    "from langchain_community.vectorstores import FAISS\n",
    "from langchain_core.runnables import RunnablePassthrough, RunnableParallel\n",
    "from langchain_community.embeddings import FakeEmbeddings"
   ]
  },
  {
   "cell_type": "code",
   "execution_count": 5,
   "metadata": {},
   "outputs": [],
   "source": [
    "load_dotenv()\n",
    "API_KEY = os.getenv('key')\n",
    "Model = \"llama-3.3-70b-versatile\""
   ]
  },
  {
   "cell_type": "code",
   "execution_count": 6,
   "metadata": {},
   "outputs": [
    {
     "data": {
      "text/plain": [
       "AIMessage(content='**What is Coding?**\\n\\nCoding, also known as computer programming, is the process of designing, writing, testing, and maintaining the source code of computer programs. This involves using programming languages to create instructions that a computer can understand and execute.\\n\\n**Key Aspects of Coding:**\\n\\n1. **Programming Languages**: Coders use various programming languages, such as Python, Java, JavaScript, and C++, to write the code.\\n2. **Algorithms**: Coders use algorithms, which are step-by-step procedures, to solve problems and perform tasks.\\n3. **Data Structures**: Coders use data structures, such as arrays, lists, and trees, to store and manage data.\\n4. **Software Development**: Coders work on developing software applications, websites, and mobile apps.\\n\\n**Types of Coding:**\\n\\n1. **Front-end Development**: Focuses on creating user interfaces and user experiences for websites and applications.\\n2. **Back-end Development**: Focuses on server-side logic, database integration, and API connectivity.\\n3. **Full-stack Development**: Combines front-end and back-end development to create a complete web application.\\n4. **Mobile App Development**: Focuses on creating mobile apps for Android and iOS devices.\\n\\n**Why is Coding Important?**\\n\\n1. **Career Opportunities**: Coding skills are in high demand, and coders can work in various industries, including tech, finance, and healthcare.\\n2. **Problem-Solving**: Coding helps develop problem-solving skills, which are essential in many areas of life.\\n3. **Creativity**: Coding allows individuals to express their creativity and bring ideas to life.\\n4. **Innovation**: Coding drives innovation, and new technologies, such as artificial intelligence and blockchain, rely on coding skills.\\n\\n**Getting Started with Coding:**\\n\\n1. **Choose a Programming Language**: Select a language that interests you, such as Python or JavaScript.\\n2. **Online Resources**: Utilize online resources, such as tutorials, videos, and coding communities.\\n3. **Practice**: Start with simple projects and practice coding regularly.\\n4. **Join a Community**: Connect with other coders to learn from their experiences and get feedback on your work.', additional_kwargs={}, response_metadata={'token_usage': {'completion_tokens': 440, 'prompt_tokens': 39, 'total_tokens': 479, 'completion_time': 1.6, 'prompt_time': 0.001725935, 'queue_time': 0.21839753099999998, 'total_time': 1.6017259350000002}, 'model_name': 'llama-3.3-70b-versatile', 'system_fingerprint': 'fp_2ddfbb0da0', 'finish_reason': 'stop', 'logprobs': None}, id='run--5c23b79b-b9f7-49fc-a21e-43f41b6d453b-0', usage_metadata={'input_tokens': 39, 'output_tokens': 440, 'total_tokens': 479})"
      ]
     },
     "execution_count": 6,
     "metadata": {},
     "output_type": "execute_result"
    }
   ],
   "source": [
    "model = ChatGroq(api_key=API_KEY, model=Model)\n",
    "model.invoke('what is coding?') "
   ]
  }
 ],
 "metadata": {
  "kernelspec": {
   "display_name": "Python 3",
   "language": "python",
   "name": "python3"
  },
  "language_info": {
   "codemirror_mode": {
    "name": "ipython",
    "version": 3
   },
   "file_extension": ".py",
   "mimetype": "text/x-python",
   "name": "python",
   "nbconvert_exporter": "python",
   "pygments_lexer": "ipython3",
   "version": "3.13.5"
  }
 },
 "nbformat": 4,
 "nbformat_minor": 2
}
